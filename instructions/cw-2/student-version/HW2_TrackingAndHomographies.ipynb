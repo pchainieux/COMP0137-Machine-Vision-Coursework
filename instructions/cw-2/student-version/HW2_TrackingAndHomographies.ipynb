{
 "cells": [
  {
   "cell_type": "code",
   "execution_count": null,
   "metadata": {},
   "outputs": [],
   "source": [
    "import numpy as np\n",
    "import scipy as sp\n",
    "from scipy import io\n",
    "import cv2 as cv \n",
    "import matplotlib.pyplot as plt\n",
    "import pylab\n",
    "import os # for reading all files in a folder\n",
    "pylab.rcParams['figure.figsize'] = (12.0, 10.0)"
   ]
  },
  {
   "attachments": {},
   "cell_type": "markdown",
   "metadata": {},
   "source": [
    "# Part H: Tracking and Homographies\n",
    "\n",
    "In this part we use Practical 7c to track the positions of the four corners of the square and project a cube into the images. \n",
    "\n",
    "TO DO: QUESTIONS TO THINK ABOUT...\n",
    "\n",
    "- Do the results look realistic? \n",
    "- If not then what factors do you think might be causing this\n",
    "\n",
    "\n",
    "TO DO: your routines for computing a homography and extracting a valid rotation and translation go in the code below. Tips:\n",
    "- you may define functions for T and H matrices respectively.\n",
    "- you may need to turn the points into homogeneous form before any other computation. \n",
    "- you may need to solve a linear system in Ah = 0 form. Write your own routines or using the builtin function 'svd'. \n",
    "- you may apply the direct linear transform (DLT) algorithm to recover the best homography H.\n",
    "- you may explain what & why you did in the report.\n"
   ]
  },
  {
   "cell_type": "code",
   "execution_count": null,
   "metadata": {},
   "outputs": [],
   "source": [
    "# TO DO: Copy and paste the function HW2_Practical7c in here. "
   ]
  },
  {
   "cell_type": "code",
   "execution_count": null,
   "metadata": {},
   "outputs": [],
   "source": [
    "# instead of running the code here, you can also save the output of each function in a numpy array in HW2_Practical7c \n",
    "# and load it here. This could be handy if you need different hyperparameters for each corner.\n",
    "\n",
    "LLs = HW2_Practical7c( 'll' )\n",
    "LRs = HW2_Practical7c( 'lr' )\n",
    "ULs = HW2_Practical7c( 'ul' )\n",
    "URs = HW2_Practical7c( 'ur' )"
   ]
  },
  {
   "cell_type": "code",
   "execution_count": null,
   "metadata": {},
   "outputs": [],
   "source": [
    "# Load all images in folder\n",
    "images = []\n",
    "nFrame = 0\n",
    "folder = 'Pattern01/'\n",
    "lst = os.listdir(folder)\n",
    "lst.sort()\n",
    "\n",
    "for frameNum in lst:\n",
    "    images.append(cv.imread(folder+frameNum))\n",
    "    nFrame += 1\n",
    "# plot first image \n",
    "plt.imshow(images[0])\n",
    "plt.show()\n",
    "\n",
    "\n",
    "# Coordinates of the known target object (a dark square on a plane) in 3D:\n",
    "XCart = np.array([[-50, -50,  50,  50],\n",
    "          [50, -50, -50,  50],\n",
    "            [0, 0, 0, 0]])\n",
    "\n",
    "# These are some approximate intrinsics for this footage.\n",
    "K = np.array([[640, 0, 320],\n",
    "          [0, 512, 256],\n",
    "            [0, 0, 1]])\n",
    "\n",
    "# Define 3D points of wireframe object.\n",
    "XWireFrameCart = np.array([[-50, -50,  50,  50, -50, -50,  50,  50],\n",
    "          [50, -50, -50,  50, 50, -50, -50,  50],\n",
    "            [0, 0, 0, 0, -100, -100, -100, -100, ]])"
   ]
  },
  {
   "cell_type": "code",
   "execution_count": null,
   "metadata": {},
   "outputs": [],
   "source": [
    "# ================================================\n",
    "for iFrame in range(nFrame):\n",
    "    xImCart = np.array([LLs[iFrame,:].T, ULs[iFrame,:].T, URs[iFrame,:].T, LRs[iFrame,:].T]).T\n",
    "\n",
    "    # get a frame from footage \n",
    "    im = images[iFrame]\n",
    "\n",
    "    # Draw image and 2d points\n",
    "    plt.imshow(im)\n",
    "    plt.scatter(x = xImCart[0,:], y = xImCart[1,:],c = 'r')\n",
    "    plt.show()\n",
    "\n",
    "\n",
    "    #TO DO: Use your routine to calculate TEst the extrinsic matrix relating the\n",
    "    #plane position to the camera position.\n",
    "    #T = estimatePlanePose(xImCart, XCart, K);\n",
    "\n",
    "    \n",
    "    # TO DO: Draw a wire frame cube using data XWireFrameCart. You need to\n",
    "    # 1) project the vertices of a 3D cube through the projective camera;\n",
    "    # 2) draw lines betweeen the resulting 2d image points.\n",
    "    # Note: CONDUCT YOUR CODE FOR DRAWING XWireFrameCart HERE\n",
    "    \n"
   ]
  },
  {
   "cell_type": "code",
   "execution_count": null,
   "metadata": {},
   "outputs": [],
   "source": []
  },
  {
   "cell_type": "code",
   "execution_count": null,
   "metadata": {},
   "outputs": [],
   "source": []
  }
 ],
 "metadata": {
  "kernelspec": {
   "display_name": "Python 3",
   "language": "python",
   "name": "python3"
  },
  "language_info": {
   "codemirror_mode": {
    "name": "ipython",
    "version": 3
   },
   "file_extension": ".py",
   "mimetype": "text/x-python",
   "name": "python",
   "nbconvert_exporter": "python",
   "pygments_lexer": "ipython3",
   "version": "3.6.5"
  }
 },
 "nbformat": 4,
 "nbformat_minor": 2
}
